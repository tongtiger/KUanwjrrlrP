{
  "nbformat": 4,
  "nbformat_minor": 0,
  "metadata": {
    "colab": {
      "name": "statistics.ipynb",
      "provenance": [],
      "collapsed_sections": [],
      "mount_file_id": "1pFKfu6gkpIQ_3vrW_SNBJXWkSDCYiZq9",
      "authorship_tag": "ABX9TyMm69UxGsg5TNbjI3QDcD8c",
      "include_colab_link": true
    },
    "kernelspec": {
      "name": "python3",
      "display_name": "Python 3"
    }
  },
  "cells": [
    {
      "cell_type": "markdown",
      "metadata": {
        "id": "view-in-github",
        "colab_type": "text"
      },
      "source": [
        "<a href=\"https://colab.research.google.com/github/tongtiger/KUanwjrrlrP/blob/master/kaggle/house_prices/statistics.ipynb\" target=\"_parent\"><img src=\"https://colab.research.google.com/assets/colab-badge.svg\" alt=\"Open In Colab\"/></a>"
      ]
    },
    {
      "cell_type": "markdown",
      "metadata": {
        "id": "8PyfgQp7uwpr",
        "colab_type": "text"
      },
      "source": [
        "#중요한 변수의 판정\n",
        "\n",
        "[통계적으로 '중요한 변수'를 찾아내는 방법](https://statisticsbyjim.com/regression/identifying-important-independent-variables/)\n",
        "\n"
      ]
    },
    {
      "cell_type": "markdown",
      "metadata": {
        "id": "YWu5vHvUw5LI",
        "colab_type": "text"
      },
      "source": [
        "#정규화(Normalization&standardization)\n",
        "\n",
        "[Batch normalization](https://buomsoo-kim.github.io/keras/2018/04/24/Easy-deep-learning-with-Keras-5.md/)\n",
        "\n",
        "[keras nomalization function](https://keras.io/api/utils/python_utils/)\n",
        "\n"
      ]
    }
  ]
}