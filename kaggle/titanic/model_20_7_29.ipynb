{
  "nbformat": 4,
  "nbformat_minor": 0,
  "metadata": {
    "colab": {
      "name": "model_20_7_29.ipynb",
      "provenance": [],
      "mount_file_id": "1ycOWawWcrc7EfIC851ZqdL7oOBWf_gvC",
      "authorship_tag": "ABX9TyNDsY2HZHyiCYMhnxKuBE6F",
      "include_colab_link": true
    },
    "kernelspec": {
      "name": "python3",
      "display_name": "Python 3"
    }
  },
  "cells": [
    {
      "cell_type": "markdown",
      "metadata": {
        "id": "view-in-github",
        "colab_type": "text"
      },
      "source": [
        "<a href=\"https://colab.research.google.com/github/tongtiger/KUanwjrrlrP/blob/master/kaggle/titanic/model_20_7_29.ipynb\" target=\"_parent\"><img src=\"https://colab.research.google.com/assets/colab-badge.svg\" alt=\"Open In Colab\"/></a>"
      ]
    },
    {
      "cell_type": "code",
      "metadata": {
        "id": "cz9EjxNpqMuf",
        "colab_type": "code",
        "colab": {}
      },
      "source": [
        "from keras.models import Sequential\n",
        "from keras.layers import Dense\n",
        "from sklearn.model_selection import train_test_split\n",
        "from keras.callbacks import ModelCheckpoint, EarlyStopping\n",
        "\n",
        "import tensorflow as tf\n",
        "import pandas as pd\n",
        "import numpy as np"
      ],
      "execution_count": 28,
      "outputs": []
    },
    {
      "cell_type": "code",
      "metadata": {
        "id": "I35IQO0trbA1",
        "colab_type": "code",
        "colab": {
          "base_uri": "https://localhost:8080/",
          "height": 415
        },
        "outputId": "d49268dc-d103-42c3-d3d4-e0c6ed0a8003"
      },
      "source": [
        "dataset = pd.read_csv(\"/content/drive/Shared drives/Kaggle/titanic/data/train_data_20_7_28.csv\")\n",
        "dataset = pd.DataFrame(dataset)\n",
        "\n",
        "dataset.drop(columns = ['Unnamed: 0', 'Ticket', 'Cabin', 'Fare'], inplace=True)\n",
        "\n",
        "dataset"
      ],
      "execution_count": 7,
      "outputs": [
        {
          "output_type": "execute_result",
          "data": {
            "text/html": [
              "<div>\n",
              "<style scoped>\n",
              "    .dataframe tbody tr th:only-of-type {\n",
              "        vertical-align: middle;\n",
              "    }\n",
              "\n",
              "    .dataframe tbody tr th {\n",
              "        vertical-align: top;\n",
              "    }\n",
              "\n",
              "    .dataframe thead th {\n",
              "        text-align: right;\n",
              "    }\n",
              "</style>\n",
              "<table border=\"1\" class=\"dataframe\">\n",
              "  <thead>\n",
              "    <tr style=\"text-align: right;\">\n",
              "      <th></th>\n",
              "      <th>Survived</th>\n",
              "      <th>Pclass</th>\n",
              "      <th>Sex</th>\n",
              "      <th>Age</th>\n",
              "      <th>SibSp</th>\n",
              "      <th>Parch</th>\n",
              "      <th>Embarked</th>\n",
              "    </tr>\n",
              "  </thead>\n",
              "  <tbody>\n",
              "    <tr>\n",
              "      <th>0</th>\n",
              "      <td>0</td>\n",
              "      <td>3</td>\n",
              "      <td>1</td>\n",
              "      <td>22.0</td>\n",
              "      <td>1</td>\n",
              "      <td>0</td>\n",
              "      <td>1</td>\n",
              "    </tr>\n",
              "    <tr>\n",
              "      <th>1</th>\n",
              "      <td>1</td>\n",
              "      <td>1</td>\n",
              "      <td>0</td>\n",
              "      <td>38.0</td>\n",
              "      <td>1</td>\n",
              "      <td>0</td>\n",
              "      <td>2</td>\n",
              "    </tr>\n",
              "    <tr>\n",
              "      <th>2</th>\n",
              "      <td>1</td>\n",
              "      <td>3</td>\n",
              "      <td>0</td>\n",
              "      <td>26.0</td>\n",
              "      <td>0</td>\n",
              "      <td>0</td>\n",
              "      <td>1</td>\n",
              "    </tr>\n",
              "    <tr>\n",
              "      <th>3</th>\n",
              "      <td>1</td>\n",
              "      <td>1</td>\n",
              "      <td>0</td>\n",
              "      <td>35.0</td>\n",
              "      <td>1</td>\n",
              "      <td>0</td>\n",
              "      <td>1</td>\n",
              "    </tr>\n",
              "    <tr>\n",
              "      <th>4</th>\n",
              "      <td>0</td>\n",
              "      <td>3</td>\n",
              "      <td>1</td>\n",
              "      <td>35.0</td>\n",
              "      <td>0</td>\n",
              "      <td>0</td>\n",
              "      <td>1</td>\n",
              "    </tr>\n",
              "    <tr>\n",
              "      <th>...</th>\n",
              "      <td>...</td>\n",
              "      <td>...</td>\n",
              "      <td>...</td>\n",
              "      <td>...</td>\n",
              "      <td>...</td>\n",
              "      <td>...</td>\n",
              "      <td>...</td>\n",
              "    </tr>\n",
              "    <tr>\n",
              "      <th>884</th>\n",
              "      <td>0</td>\n",
              "      <td>2</td>\n",
              "      <td>1</td>\n",
              "      <td>27.0</td>\n",
              "      <td>0</td>\n",
              "      <td>0</td>\n",
              "      <td>1</td>\n",
              "    </tr>\n",
              "    <tr>\n",
              "      <th>885</th>\n",
              "      <td>1</td>\n",
              "      <td>1</td>\n",
              "      <td>0</td>\n",
              "      <td>19.0</td>\n",
              "      <td>0</td>\n",
              "      <td>0</td>\n",
              "      <td>1</td>\n",
              "    </tr>\n",
              "    <tr>\n",
              "      <th>886</th>\n",
              "      <td>0</td>\n",
              "      <td>3</td>\n",
              "      <td>0</td>\n",
              "      <td>1.0</td>\n",
              "      <td>1</td>\n",
              "      <td>2</td>\n",
              "      <td>1</td>\n",
              "    </tr>\n",
              "    <tr>\n",
              "      <th>887</th>\n",
              "      <td>1</td>\n",
              "      <td>1</td>\n",
              "      <td>1</td>\n",
              "      <td>26.0</td>\n",
              "      <td>0</td>\n",
              "      <td>0</td>\n",
              "      <td>2</td>\n",
              "    </tr>\n",
              "    <tr>\n",
              "      <th>888</th>\n",
              "      <td>0</td>\n",
              "      <td>3</td>\n",
              "      <td>1</td>\n",
              "      <td>32.0</td>\n",
              "      <td>0</td>\n",
              "      <td>0</td>\n",
              "      <td>3</td>\n",
              "    </tr>\n",
              "  </tbody>\n",
              "</table>\n",
              "<p>889 rows × 7 columns</p>\n",
              "</div>"
            ],
            "text/plain": [
              "     Survived  Pclass  Sex   Age  SibSp  Parch  Embarked\n",
              "0           0       3    1  22.0      1      0         1\n",
              "1           1       1    0  38.0      1      0         2\n",
              "2           1       3    0  26.0      0      0         1\n",
              "3           1       1    0  35.0      1      0         1\n",
              "4           0       3    1  35.0      0      0         1\n",
              "..        ...     ...  ...   ...    ...    ...       ...\n",
              "884         0       2    1  27.0      0      0         1\n",
              "885         1       1    0  19.0      0      0         1\n",
              "886         0       3    0   1.0      1      2         1\n",
              "887         1       1    1  26.0      0      0         2\n",
              "888         0       3    1  32.0      0      0         3\n",
              "\n",
              "[889 rows x 7 columns]"
            ]
          },
          "metadata": {
            "tags": []
          },
          "execution_count": 7
        }
      ]
    },
    {
      "cell_type": "code",
      "metadata": {
        "id": "nrp8IwGOr6PI",
        "colab_type": "code",
        "colab": {}
      },
      "source": [
        "data = dataset.values\n",
        "\n",
        "X = data[:, 1:6+1]\n",
        "Y = data[:, 0]"
      ],
      "execution_count": 8,
      "outputs": []
    },
    {
      "cell_type": "code",
      "metadata": {
        "id": "IcDKs-QRs5_C",
        "colab_type": "code",
        "colab": {}
      },
      "source": [
        "seed = 0\n",
        "np.random.seed(seed)\n",
        "tf.random.set_seed(3)"
      ],
      "execution_count": 9,
      "outputs": []
    },
    {
      "cell_type": "code",
      "metadata": {
        "id": "wigHk6QJxEtq",
        "colab_type": "code",
        "colab": {}
      },
      "source": [
        "from sklearn.model_selection import StratifiedKFold\n",
        "\n",
        "n_fold = 40\n",
        "skf = StratifiedKFold(n_splits = n_fold, shuffle = True, random_state = seed)"
      ],
      "execution_count": 40,
      "outputs": []
    },
    {
      "cell_type": "code",
      "metadata": {
        "id": "8WUFGQ-0sp5k",
        "colab_type": "code",
        "colab": {}
      },
      "source": [
        "#X_train, Y_train, X_text, Y_test = train_test_split(X, Y, test_size = 0.2, random_state = seed)"
      ],
      "execution_count": 10,
      "outputs": []
    },
    {
      "cell_type": "code",
      "metadata": {
        "id": "jfg9Qot6uRN8",
        "colab_type": "code",
        "colab": {
          "base_uri": "https://localhost:8080/",
          "height": 1000
        },
        "outputId": "7012a78e-c5e1-4f73-f108-253b1ea8da3a"
      },
      "source": [
        "accuracy = []\n",
        "z = 0\n",
        "for train, test in skf.split(X, Y):\n",
        "  model = Sequential()\n",
        "  model.add(Dense(24, input_dim = 6, activation='relu'))\n",
        "  model.add(Dense(8, activation='relu'))\n",
        "  model.add(Dense(1, activation='sigmoid'))\n",
        "  model.compile(loss = 'binary_crossentropy', optimizer = 'adam', metrics = ['accuracy'])\n",
        "  early_stopping_callback = EarlyStopping(monitor='val_loss', patience = 10)\n",
        "  model.fit(X[train], Y[train], epochs = 100, batch_size=50, verbose=0, callbacks=[early_stopping_callback])\n",
        "  print(model.evaluate(X[test], Y[test])[1])\n",
        "  accuracy.append(model.evaluate(X[test], Y[test])[1])\n",
        "\n",
        "print(\"검증 횟수 = \", len(accuracy))\n",
        "print(\"모델 평균 정확도 = \", sum(accuracy)/len(accuracy))\n"
      ],
      "execution_count": 41,
      "outputs": [
        {
          "output_type": "stream",
          "text": [
            "/usr/local/lib/python3.6/dist-packages/keras/callbacks/callbacks.py:846: RuntimeWarning: Early stopping conditioned on metric `val_loss` which is not available. Available metrics are: loss,accuracy\n",
            "  (self.monitor, ','.join(list(logs.keys()))), RuntimeWarning\n"
          ],
          "name": "stderr"
        },
        {
          "output_type": "stream",
          "text": [
            "23/23 [==============================] - 0s 724us/step\n",
            "0.782608687877655\n",
            "23/23 [==============================] - 0s 175us/step\n",
            "23/23 [==============================] - 0s 822us/step\n",
            "0.8695651888847351\n",
            "23/23 [==============================] - 0s 188us/step\n",
            "23/23 [==============================] - 0s 709us/step\n",
            "0.739130437374115\n",
            "23/23 [==============================] - 0s 168us/step\n",
            "23/23 [==============================] - 0s 782us/step\n",
            "0.8695651888847351\n",
            "23/23 [==============================] - 0s 201us/step\n",
            "23/23 [==============================] - 0s 728us/step\n",
            "0.8695651888847351\n",
            "23/23 [==============================] - 0s 63us/step\n",
            "23/23 [==============================] - 0s 806us/step\n",
            "0.9130434989929199\n",
            "23/23 [==============================] - 0s 86us/step\n",
            "23/23 [==============================] - 0s 867us/step\n",
            "0.9130434989929199\n",
            "23/23 [==============================] - 0s 174us/step\n",
            "23/23 [==============================] - 0s 750us/step\n",
            "0.8260869383811951\n",
            "23/23 [==============================] - 0s 149us/step\n",
            "23/23 [==============================] - 0s 752us/step\n",
            "0.8260869383811951\n",
            "23/23 [==============================] - 0s 170us/step\n",
            "22/22 [==============================] - 0s 875us/step\n",
            "0.9545454382896423\n",
            "22/22 [==============================] - 0s 247us/step\n",
            "22/22 [==============================] - 0s 995us/step\n",
            "0.9090909361839294\n",
            "22/22 [==============================] - 0s 71us/step\n",
            "22/22 [==============================] - 0s 790us/step\n",
            "0.8181818127632141\n",
            "22/22 [==============================] - 0s 160us/step\n",
            "22/22 [==============================] - 0s 767us/step\n",
            "0.8636363744735718\n",
            "22/22 [==============================] - 0s 58us/step\n",
            "22/22 [==============================] - 0s 756us/step\n",
            "0.9090909361839294\n",
            "22/22 [==============================] - 0s 232us/step\n",
            "22/22 [==============================] - 0s 742us/step\n",
            "0.8181818127632141\n",
            "22/22 [==============================] - 0s 39us/step\n",
            "22/22 [==============================] - 0s 795us/step\n",
            "0.7272727489471436\n",
            "22/22 [==============================] - 0s 150us/step\n",
            "22/22 [==============================] - 0s 783us/step\n",
            "0.9545454382896423\n",
            "22/22 [==============================] - 0s 239us/step\n",
            "22/22 [==============================] - 0s 759us/step\n",
            "0.6818181872367859\n",
            "22/22 [==============================] - 0s 146us/step\n",
            "22/22 [==============================] - 0s 764us/step\n",
            "0.7272727489471436\n",
            "22/22 [==============================] - 0s 165us/step\n",
            "22/22 [==============================] - 0s 706us/step\n",
            "0.8636363744735718\n",
            "22/22 [==============================] - 0s 180us/step\n",
            "22/22 [==============================] - 0s 736us/step\n",
            "0.7272727489471436\n",
            "22/22 [==============================] - 0s 193us/step\n",
            "22/22 [==============================] - 0s 808us/step\n",
            "0.8636363744735718\n",
            "22/22 [==============================] - 0s 234us/step\n",
            "22/22 [==============================] - 0s 819us/step\n",
            "0.8181818127632141\n",
            "22/22 [==============================] - 0s 42us/step\n",
            "22/22 [==============================] - 0s 805us/step\n",
            "0.8636363744735718\n",
            "22/22 [==============================] - 0s 162us/step\n",
            "22/22 [==============================] - 0s 787us/step\n",
            "0.8636363744735718\n",
            "22/22 [==============================] - 0s 177us/step\n",
            "22/22 [==============================] - 0s 876us/step\n",
            "0.6818181872367859\n",
            "22/22 [==============================] - 0s 94us/step\n",
            "22/22 [==============================] - 0s 759us/step\n",
            "0.6818181872367859\n",
            "22/22 [==============================] - 0s 161us/step\n",
            "22/22 [==============================] - 0s 763us/step\n",
            "0.8636363744735718\n",
            "22/22 [==============================] - 0s 39us/step\n",
            "22/22 [==============================] - 0s 1ms/step\n",
            "0.7272727489471436\n",
            "22/22 [==============================] - 0s 213us/step\n",
            "22/22 [==============================] - 0s 782us/step\n",
            "0.8636363744735718\n",
            "22/22 [==============================] - 0s 146us/step\n",
            "22/22 [==============================] - 0s 795us/step\n",
            "0.9090909361839294\n",
            "22/22 [==============================] - 0s 90us/step\n",
            "22/22 [==============================] - 0s 770us/step\n",
            "0.8181818127632141\n",
            "22/22 [==============================] - 0s 76us/step\n",
            "22/22 [==============================] - 0s 796us/step\n",
            "0.7727272510528564\n",
            "22/22 [==============================] - 0s 212us/step\n",
            "22/22 [==============================] - 0s 755us/step\n",
            "0.9090909361839294\n",
            "22/22 [==============================] - 0s 61us/step\n",
            "22/22 [==============================] - 0s 771us/step\n",
            "0.6363636255264282\n",
            "22/22 [==============================] - 0s 110us/step\n",
            "22/22 [==============================] - 0s 749us/step\n",
            "0.7272727489471436\n",
            "22/22 [==============================] - 0s 179us/step\n",
            "22/22 [==============================] - 0s 756us/step\n",
            "0.8181818127632141\n",
            "22/22 [==============================] - 0s 129us/step\n",
            "22/22 [==============================] - 0s 742us/step\n",
            "0.7272727489471436\n",
            "22/22 [==============================] - 0s 84us/step\n",
            "22/22 [==============================] - 0s 736us/step\n",
            "0.6818181872367859\n",
            "22/22 [==============================] - 0s 153us/step\n",
            "22/22 [==============================] - 0s 762us/step\n",
            "0.8181818127632141\n",
            "22/22 [==============================] - 0s 49us/step\n",
            "검증 횟수 =  40\n",
            "모델 평균 정확도 =  0.8152173951268196\n"
          ],
          "name": "stdout"
        }
      ]
    },
    {
      "cell_type": "markdown",
      "metadata": {
        "id": "bNgledK16h5R",
        "colab_type": "text"
      },
      "source": [
        "#K겹 교차 검증에 관한 내용\n",
        "\n",
        "K겹 교차 검증에서, K개의 인스턴스가 생성되는데, 이때 생기는 인스턴스는 우리가 사용하는 모델이 '아니다'. 왜냐하면 모델은 인풋 데이터를 사용하여 결과값을 도출해내는 계산 과정을 이르는 말인데, K겹 교차 검증에서 각각의 인스턴스들은 인풋이 다르기 때문이다. 또한, K겹 교차 검증의 목적 자체가 더 나은 모델의 선택이 아닌, '한정된 데이터를 가지고 보다 타당한 모델 평가를 하기 위함'이다. 자세한 내용은 아래 링크를 참고하면 된다.\n",
        "\n",
        "[K겹 교차 검증](https://stats.stackexchange.com/questions/52274/how-to-choose-a-predictive-model-after-k-fold-cross-validation)"
      ]
    },
    {
      "cell_type": "code",
      "metadata": {
        "id": "mNsV_tzr7QsL",
        "colab_type": "code",
        "colab": {
          "base_uri": "https://localhost:8080/",
          "height": 75
        },
        "outputId": "f8610baa-4a9d-4fa8-e81d-938302133a26"
      },
      "source": [
        "model = Sequential()\n",
        "model.add(Dense(24, input_dim = 6, activation='relu'))\n",
        "model.add(Dense(8, activation='relu'))\n",
        "model.add(Dense(1, activation='sigmoid'))\n",
        "model.compile(loss = 'binary_crossentropy', optimizer = 'adam', metrics = ['accuracy'])\n",
        "early_stopping_callback = EarlyStopping(monitor='val_loss', patience = 10)\n",
        "model.fit(X, Y, epochs = 100, batch_size=50, verbose=0, callbacks=[early_stopping_callback])\n",
        "\n",
        "model.save(\"/content/drive/Shared drives/Kaggle/titanic/model/valacc_0.8152.model\")"
      ],
      "execution_count": 42,
      "outputs": [
        {
          "output_type": "stream",
          "text": [
            "/usr/local/lib/python3.6/dist-packages/keras/callbacks/callbacks.py:846: RuntimeWarning: Early stopping conditioned on metric `val_loss` which is not available. Available metrics are: loss,accuracy\n",
            "  (self.monitor, ','.join(list(logs.keys()))), RuntimeWarning\n"
          ],
          "name": "stderr"
        }
      ]
    },
    {
      "cell_type": "code",
      "metadata": {
        "id": "_OEpIEZytHF8",
        "colab_type": "code",
        "colab": {}
      },
      "source": [
        "'''import os\n",
        "\n",
        "model_dir = \"/content/drive/Shared drives/Kaggle/titanic/model/\"\n",
        "if not os.path.exists(model_dir):\n",
        "  os.mkdir(model_dir)\n",
        "\n",
        "\n",
        "modelpath = \"/content/drive/Shared drives/Kaggle/titanic/model/{epoch:02d}_{val_loss:.4f}.hdf5\"\n",
        "\n",
        "checkpointer = ModelCheckpoint(filepath = modelpath, monitor='val_loss', verbose = 1, save_best_only=True)\n",
        "\n",
        "model.fit(X[train], Y[train], validation_split=0.2, epochs = 3500, batch_size=500, verbose=0, callbacks=[checkpointer])'''"
      ],
      "execution_count": null,
      "outputs": []
    },
    {
      "cell_type": "code",
      "metadata": {
        "id": "iiSjTEwq7mqN",
        "colab_type": "code",
        "colab": {}
      },
      "source": [
        "from keras.models import load_model\n",
        "\n",
        "predict_model = load_model(\"/content/drive/Shared drives/Kaggle/titanic/model/valacc_0.8152.model\")"
      ],
      "execution_count": 45,
      "outputs": []
    },
    {
      "cell_type": "code",
      "metadata": {
        "id": "Tj5dE08p86ZS",
        "colab_type": "code",
        "colab": {
          "base_uri": "https://localhost:8080/",
          "height": 415
        },
        "outputId": "581aa474-cfd5-4eda-bcb3-fb0e729ed147"
      },
      "source": [
        "test_data = pd.read_csv(\"/content/drive/Shared drives/Kaggle/titanic/data/test_data_20_7_29.csv\")\n",
        "test_data = pd.DataFrame(test_data)\n",
        "test_data.drop(columns=['Unnamed: 0'], inplace=True)\n",
        "test_data"
      ],
      "execution_count": 51,
      "outputs": [
        {
          "output_type": "execute_result",
          "data": {
            "text/html": [
              "<div>\n",
              "<style scoped>\n",
              "    .dataframe tbody tr th:only-of-type {\n",
              "        vertical-align: middle;\n",
              "    }\n",
              "\n",
              "    .dataframe tbody tr th {\n",
              "        vertical-align: top;\n",
              "    }\n",
              "\n",
              "    .dataframe thead th {\n",
              "        text-align: right;\n",
              "    }\n",
              "</style>\n",
              "<table border=\"1\" class=\"dataframe\">\n",
              "  <thead>\n",
              "    <tr style=\"text-align: right;\">\n",
              "      <th></th>\n",
              "      <th>PassengerId</th>\n",
              "      <th>Pclass</th>\n",
              "      <th>Sex</th>\n",
              "      <th>Age</th>\n",
              "      <th>SibSp</th>\n",
              "      <th>Parch</th>\n",
              "      <th>Embarked</th>\n",
              "    </tr>\n",
              "  </thead>\n",
              "  <tbody>\n",
              "    <tr>\n",
              "      <th>0</th>\n",
              "      <td>892.0</td>\n",
              "      <td>3.0</td>\n",
              "      <td>1</td>\n",
              "      <td>34.50000</td>\n",
              "      <td>0.0</td>\n",
              "      <td>0.0</td>\n",
              "      <td>1</td>\n",
              "    </tr>\n",
              "    <tr>\n",
              "      <th>1</th>\n",
              "      <td>893.0</td>\n",
              "      <td>3.0</td>\n",
              "      <td>0</td>\n",
              "      <td>47.00000</td>\n",
              "      <td>1.0</td>\n",
              "      <td>0.0</td>\n",
              "      <td>2</td>\n",
              "    </tr>\n",
              "    <tr>\n",
              "      <th>2</th>\n",
              "      <td>894.0</td>\n",
              "      <td>2.0</td>\n",
              "      <td>1</td>\n",
              "      <td>62.00000</td>\n",
              "      <td>0.0</td>\n",
              "      <td>0.0</td>\n",
              "      <td>1</td>\n",
              "    </tr>\n",
              "    <tr>\n",
              "      <th>3</th>\n",
              "      <td>895.0</td>\n",
              "      <td>3.0</td>\n",
              "      <td>1</td>\n",
              "      <td>27.00000</td>\n",
              "      <td>0.0</td>\n",
              "      <td>0.0</td>\n",
              "      <td>2</td>\n",
              "    </tr>\n",
              "    <tr>\n",
              "      <th>4</th>\n",
              "      <td>896.0</td>\n",
              "      <td>3.0</td>\n",
              "      <td>0</td>\n",
              "      <td>22.00000</td>\n",
              "      <td>1.0</td>\n",
              "      <td>1.0</td>\n",
              "      <td>2</td>\n",
              "    </tr>\n",
              "    <tr>\n",
              "      <th>...</th>\n",
              "      <td>...</td>\n",
              "      <td>...</td>\n",
              "      <td>...</td>\n",
              "      <td>...</td>\n",
              "      <td>...</td>\n",
              "      <td>...</td>\n",
              "      <td>...</td>\n",
              "    </tr>\n",
              "    <tr>\n",
              "      <th>413</th>\n",
              "      <td>1305.0</td>\n",
              "      <td>3.0</td>\n",
              "      <td>1</td>\n",
              "      <td>30.27259</td>\n",
              "      <td>0.0</td>\n",
              "      <td>0.0</td>\n",
              "      <td>2</td>\n",
              "    </tr>\n",
              "    <tr>\n",
              "      <th>414</th>\n",
              "      <td>1306.0</td>\n",
              "      <td>1.0</td>\n",
              "      <td>0</td>\n",
              "      <td>39.00000</td>\n",
              "      <td>0.0</td>\n",
              "      <td>0.0</td>\n",
              "      <td>3</td>\n",
              "    </tr>\n",
              "    <tr>\n",
              "      <th>415</th>\n",
              "      <td>1307.0</td>\n",
              "      <td>3.0</td>\n",
              "      <td>1</td>\n",
              "      <td>38.50000</td>\n",
              "      <td>0.0</td>\n",
              "      <td>0.0</td>\n",
              "      <td>2</td>\n",
              "    </tr>\n",
              "    <tr>\n",
              "      <th>416</th>\n",
              "      <td>1308.0</td>\n",
              "      <td>3.0</td>\n",
              "      <td>1</td>\n",
              "      <td>30.27259</td>\n",
              "      <td>0.0</td>\n",
              "      <td>0.0</td>\n",
              "      <td>2</td>\n",
              "    </tr>\n",
              "    <tr>\n",
              "      <th>417</th>\n",
              "      <td>1309.0</td>\n",
              "      <td>3.0</td>\n",
              "      <td>1</td>\n",
              "      <td>30.27259</td>\n",
              "      <td>1.0</td>\n",
              "      <td>1.0</td>\n",
              "      <td>3</td>\n",
              "    </tr>\n",
              "  </tbody>\n",
              "</table>\n",
              "<p>418 rows × 7 columns</p>\n",
              "</div>"
            ],
            "text/plain": [
              "     PassengerId  Pclass  Sex       Age  SibSp  Parch  Embarked\n",
              "0          892.0     3.0    1  34.50000    0.0    0.0         1\n",
              "1          893.0     3.0    0  47.00000    1.0    0.0         2\n",
              "2          894.0     2.0    1  62.00000    0.0    0.0         1\n",
              "3          895.0     3.0    1  27.00000    0.0    0.0         2\n",
              "4          896.0     3.0    0  22.00000    1.0    1.0         2\n",
              "..           ...     ...  ...       ...    ...    ...       ...\n",
              "413       1305.0     3.0    1  30.27259    0.0    0.0         2\n",
              "414       1306.0     1.0    0  39.00000    0.0    0.0         3\n",
              "415       1307.0     3.0    1  38.50000    0.0    0.0         2\n",
              "416       1308.0     3.0    1  30.27259    0.0    0.0         2\n",
              "417       1309.0     3.0    1  30.27259    1.0    1.0         3\n",
              "\n",
              "[418 rows x 7 columns]"
            ]
          },
          "metadata": {
            "tags": []
          },
          "execution_count": 51
        }
      ]
    },
    {
      "cell_type": "code",
      "metadata": {
        "id": "V4i8uH5u-M09",
        "colab_type": "code",
        "colab": {
          "base_uri": "https://localhost:8080/",
          "height": 260
        },
        "outputId": "a350ff6b-96b1-4b60-e9c7-1a0f69c9291f"
      },
      "source": [
        "#test_data = test_data.values\n",
        "test_data"
      ],
      "execution_count": 58,
      "outputs": [
        {
          "output_type": "execute_result",
          "data": {
            "text/plain": [
              "array([[8.920e+02, 3.000e+00, 1.000e+00, ..., 0.000e+00, 0.000e+00,\n",
              "        1.000e+00],\n",
              "       [8.930e+02, 3.000e+00, 0.000e+00, ..., 1.000e+00, 0.000e+00,\n",
              "        2.000e+00],\n",
              "       [8.940e+02, 2.000e+00, 1.000e+00, ..., 0.000e+00, 0.000e+00,\n",
              "        1.000e+00],\n",
              "       ...,\n",
              "       [1.307e+03, 3.000e+00, 1.000e+00, ..., 0.000e+00, 0.000e+00,\n",
              "        2.000e+00],\n",
              "       [1.308e+03, 3.000e+00, 1.000e+00, ..., 0.000e+00, 0.000e+00,\n",
              "        2.000e+00],\n",
              "       [1.309e+03, 3.000e+00, 1.000e+00, ..., 1.000e+00, 1.000e+00,\n",
              "        3.000e+00]])"
            ]
          },
          "metadata": {
            "tags": []
          },
          "execution_count": 58
        }
      ]
    },
    {
      "cell_type": "code",
      "metadata": {
        "id": "BMp6HIOt9LbS",
        "colab_type": "code",
        "colab": {
          "base_uri": "https://localhost:8080/",
          "height": 204
        },
        "outputId": "88e7b918-0bba-4b3f-b8eb-b53952067c7b"
      },
      "source": [
        "input = test_data[:, 1:6+1]\n",
        "\n",
        "prediction = {\"PassengerId\": [], \"Survived\": []}\n",
        "\n",
        "for answer in predict_model.predict(input): \n",
        "  if answer >= 0.5:\n",
        "    answer = 1\n",
        "  else:\n",
        "    answer = 0\n",
        "  prediction['Survived'].append(answer)\n",
        "\n",
        "for data in test_data[:, 0]:\n",
        "  prediction['PassengerId'].append(data)\n",
        "\n",
        "result = pd.DataFrame(prediction)\n",
        "\n",
        "result = result.astype('int')\n",
        "print(result.info())\n",
        "\n",
        "result.to_csv(\"/content/drive/Shared drives/Kaggle/titanic/data/result_20_7_29.csv\", index=False)"
      ],
      "execution_count": 72,
      "outputs": [
        {
          "output_type": "stream",
          "text": [
            "<class 'pandas.core.frame.DataFrame'>\n",
            "RangeIndex: 418 entries, 0 to 417\n",
            "Data columns (total 2 columns):\n",
            " #   Column       Non-Null Count  Dtype\n",
            "---  ------       --------------  -----\n",
            " 0   PassengerId  418 non-null    int64\n",
            " 1   Survived     418 non-null    int64\n",
            "dtypes: int64(2)\n",
            "memory usage: 6.7 KB\n",
            "None\n"
          ],
          "name": "stdout"
        }
      ]
    }
  ]
}